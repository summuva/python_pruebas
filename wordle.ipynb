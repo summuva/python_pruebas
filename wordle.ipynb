{
 "cells": [
  {
   "cell_type": "code",
   "execution_count": 4,
   "metadata": {},
   "outputs": [
    {
     "name": "stdout",
     "output_type": "stream",
     "text": [
      "4\n"
     ]
    }
   ],
   "source": [
    "palabra = 'hola'\n",
    "print(len(palabra))"
   ]
  },
  {
   "cell_type": "code",
   "execution_count": 1,
   "metadata": {},
   "outputs": [
    {
     "name": "stdout",
     "output_type": "stream",
     "text": [
      "pancho\n",
      "sal\n",
      "manteca\n",
      "pimienta\n"
     ]
    }
   ],
   "source": [
    "lista_super = []\n",
    "while True:\n",
    "    producto = str(input('ingrese un nuevo producto. Para terminar escriba DONE'))\n",
    "    if producto == 'DONE':\n",
    "        break\n",
    "    lista_super.append(producto)\n",
    "\n",
    "for producto in lista_super:\n",
    "    print(producto)\n",
    "\n"
   ]
  },
  {
   "cell_type": "code",
   "execution_count": 5,
   "metadata": {},
   "outputs": [
    {
     "name": "stdout",
     "output_type": "stream",
     "text": [
      "adivinaste la palabra correcta es \"pollo\"\n"
     ]
    }
   ],
   "source": [
    "palabra_secreta = 'pollo'\n",
    "palabra_corregida = ''\n",
    "intentos = 4\n",
    "palabra_usuario = input('ingresa una palabra de 5 letras')\n",
    "while len(palabra_usuario) != 5 :\n",
    "    palabra_usuario = input('ingresa una palabra de 5 letras por favor') \n",
    "\n",
    "while intentos > 0:\n",
    "    if palabra_usuario != palabra_secreta:\n",
    "        for indice in range(len(palabra_usuario)):\n",
    "            if palabra_usuario[indice] in palabra_secreta:\n",
    "                if palabra_usuario[indice] != palabra_secreta[indice]:\n",
    "                    letra_corregida = '(' + palabra_usuario[indice] + ') '\n",
    "                    palabra_corregida += letra_corregida\n",
    "                elif palabra_usuario[indice] == palabra_secreta[indice]:\n",
    "                    letra_corregida = '[' + palabra_usuario[indice] + '] '\n",
    "                    palabra_corregida += letra_corregida\n",
    "            else:\n",
    "                letra_corregida = palabra_usuario[indice] + ' '\n",
    "                palabra_corregida += letra_corregida\n",
    "    else:\n",
    "        \n",
    "        print(f'adivinaste la palabra correcta es \"{palabra_secreta}\"')\n",
    "        break\n",
    "    print(palabra_corregida)\n",
    "    intentos = intentos - 1 \n",
    "    print('te quedan  ' , intentos , '  intentos')\n",
    "    palabra_corregida = ''\n",
    "    palabra_usuario = input('ingresa una palabra de 5 letras')\n",
    "    while len(palabra_usuario) != 5 :\n",
    "        palabra_usuario = input('ingresa una palabra de 5 letras por favor') \n"
   ]
  },
  {
   "cell_type": "code",
   "execution_count": 21,
   "metadata": {},
   "outputs": [
    {
     "name": "stdout",
     "output_type": "stream",
     "text": [
      "['0', 'hola']\n",
      "h ji\n"
     ]
    }
   ],
   "source": [
    "x = ''\n",
    "palabra = []\n",
    "palabra.append('0')\n",
    "palabra.append('hola')\n",
    "print(palabra)\n",
    "x += 'h'\n",
    "x += ' ji'\n",
    "print(x)"
   ]
  }
 ],
 "metadata": {
  "kernelspec": {
   "display_name": "Python 3.10.5 64-bit (windows store)",
   "language": "python",
   "name": "python3"
  },
  "language_info": {
   "codemirror_mode": {
    "name": "ipython",
    "version": 3
   },
   "file_extension": ".py",
   "mimetype": "text/x-python",
   "name": "python",
   "nbconvert_exporter": "python",
   "pygments_lexer": "ipython3",
   "version": "3.10.5"
  },
  "orig_nbformat": 4,
  "vscode": {
   "interpreter": {
    "hash": "f8ca15d83b6fb72cece3edcf60f6aa40d2cbdeb5c60e0f188ff8c7c65828fd00"
   }
  }
 },
 "nbformat": 4,
 "nbformat_minor": 2
}
